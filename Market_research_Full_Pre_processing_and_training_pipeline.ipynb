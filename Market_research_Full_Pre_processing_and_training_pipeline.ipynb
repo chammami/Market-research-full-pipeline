{
  "nbformat": 4,
  "nbformat_minor": 0,
  "metadata": {
    "colab": {
      "name": "Market research - Full Pre-processing and training pipeline.ipynb",
      "version": "0.3.2",
      "provenance": []
    },
    "language_info": {
      "codemirror_mode": {
        "name": "ipython",
        "version": 3
      },
      "file_extension": ".py",
      "mimetype": "text/x-python",
      "name": "python",
      "nbconvert_exporter": "python",
      "pygments_lexer": "ipython3",
      "version": "3.6.7"
    },
    "kernelspec": {
      "display_name": "Python 3",
      "language": "python",
      "name": "python3"
    }
  },
  "cells": [
    {
      "cell_type": "markdown",
      "metadata": {
        "id": "99LNrYhFGGav",
        "colab_type": "text"
      },
      "source": [
        "# Market research\n",
        "\n",
        "__Full Pre-processing and training pipeline, by Chihebeddine HAMMAMI__"
      ]
    },
    {
      "cell_type": "markdown",
      "metadata": {
        "id": "J6X3euePGGa0",
        "colab_type": "text"
      },
      "source": [
        "## Setup"
      ]
    },
    {
      "cell_type": "code",
      "metadata": {
        "ExecuteTime": {
          "end_time": "2019-01-29T10:24:23.927991Z",
          "start_time": "2019-01-29T10:24:23.250734Z"
        },
        "id": "z-WkG3xfGGa3",
        "colab_type": "code",
        "colab": {}
      },
      "source": [
        "import os\n",
        "\n",
        "import numpy as np\n",
        "import pandas as pd\n",
        "\n",
        "# For DataViz\n",
        "import matplotlib.pyplot as plt\n",
        "import seaborn as sns\n",
        "\n",
        "import re # For text handling\n",
        "\n",
        "# For training ML algorithms\n",
        "\n",
        "from sklearn.model_selection import StratifiedShuffleSplit, cross_val_score\n",
        "from sklearn.metrics import mean_squared_log_error\n",
        "from sklearn.impute import SimpleImputer\n",
        "from sklearn.pipeline import Pipeline\n",
        "from sklearn.compose import ColumnTransformer\n",
        "from sklearn.preprocessing import StandardScaler, OrdinalEncoder, OneHotEncoder\n",
        "\n",
        "\n",
        "# To render plots inside notebooks\n",
        "%matplotlib inline"
      ],
      "execution_count": 0,
      "outputs": []
    },
    {
      "cell_type": "code",
      "metadata": {
        "ExecuteTime": {
          "end_time": "2019-01-29T10:24:23.945360Z",
          "start_time": "2019-01-29T10:24:23.941439Z"
        },
        "id": "AR78DjkFGGbD",
        "colab_type": "code",
        "colab": {}
      },
      "source": [
        "# Files parameters\n",
        "PATH = './../data/raw/'\n",
        "TRAIN_FILE_NAME = \"mower_market_snapshot.csv\"\n",
        "TEST_FILE_NAME = \"submission_set.csv\"\n",
        "FIGS_PATH = './../figs'\n",
        "TRAINING_TEST_RATIO = 0.2\n",
        "\n",
        "# Pipeline parameters\n",
        "num_imputer_strategy = \"median\"\n",
        "cat_imputer_strategy = \"most_frequent\"\n",
        "\n",
        "# Numerical features\n",
        "num_columns = ['capacity','failure_rate', 'margin',\n",
        "               'price', 'prod_cost', 'warranty', 'attractiveness']\n"
      ],
      "execution_count": 0,
      "outputs": []
    },
    {
      "cell_type": "markdown",
      "metadata": {
        "id": "yAmP5LrZGGbM",
        "colab_type": "text"
      },
      "source": [
        "## Full pre-processing pipeline"
      ]
    },
    {
      "cell_type": "code",
      "metadata": {
        "ExecuteTime": {
          "end_time": "2019-01-29T10:24:24.201616Z",
          "start_time": "2019-01-29T10:24:24.193417Z"
        },
        "id": "PSeWC_qlGGbP",
        "colab_type": "code",
        "colab": {}
      },
      "source": [
        "def get_data(path, file_name):\n",
        "    \"\"\"\n",
        "    Reads csv file\n",
        "    \n",
        "    \"\"\"\n",
        "    file_path = os.path.join(path, file_name)\n",
        "    df = pd.read_csv(filepath_or_buffer = file_path, sep = ';')\n",
        "    return df\n",
        "\n",
        "def parse_warranty(x):\n",
        "    \"\"\"\n",
        "    parse warranty string format\n",
        "    \"\"\"\n",
        "    m = re.search('^[0-9]+',x)\n",
        "    return float(m.group(0))\n",
        "\n",
        "def pre_process(df):\n",
        "    \"\"\"\n",
        "    Perform custom pre-processing tasks to transform df \n",
        "    \"\"\"\n",
        "    # Set index\n",
        "    df_trans = df.set_index('id')\n",
        "\n",
        "    # Coerce to numeric values if possible otherwise return np.nan\n",
        "    df_trans[\"prod_cost\"] = pd.to_numeric(df_trans[\"prod_cost\"], \"coerce\")\n",
        "\n",
        "    # Handle warranty column diverse formats\n",
        "    df_trans[\"warranty\"] = df_trans[\"warranty\"].apply(parse_warranty)\n",
        "\n",
        "    # Correct `quality` typo from Hight to High\n",
        "    df_trans.quality = df_trans.quality.apply(lambda x: 'High' if x.lower() ==\"hight\" else x)\n",
        "\n",
        "#     # Handle floating precision at display round at 3 decimal digits\n",
        "#     df_trans.loc[:,num_columns] = df_trans.loc[:,num_columns].applymap(lambda x: round(x,3))\n",
        "\n",
        "    # drop `market_share`\n",
        "    if \"market_share\" in df_trans.columns :\n",
        "        df_trans.drop(labels = \"market_share\",\n",
        "                   axis = 1,\n",
        "                   inplace = True)\n",
        "    else:\n",
        "        pass\n",
        "    return df_trans"
      ],
      "execution_count": 0,
      "outputs": []
    },
    {
      "cell_type": "code",
      "metadata": {
        "ExecuteTime": {
          "end_time": "2019-01-29T10:24:24.641276Z",
          "start_time": "2019-01-29T10:24:24.622947Z"
        },
        "id": "IbV_0EqGGGbY",
        "colab_type": "code",
        "colab": {}
      },
      "source": [
        "raw_mower_data_train = get_data(PATH,TRAIN_FILE_NAME)\n",
        "raw_mower_data_test = get_data(PATH,TEST_FILE_NAME)"
      ],
      "execution_count": 0,
      "outputs": []
    },
    {
      "cell_type": "code",
      "metadata": {
        "ExecuteTime": {
          "end_time": "2019-01-29T10:24:25.061845Z",
          "start_time": "2019-01-29T10:24:25.053609Z"
        },
        "id": "FoDJaZUgGGbe",
        "colab_type": "code",
        "colab": {}
      },
      "source": [
        "# Train test split\n",
        "# Startified Training/test split based on `product_type`\n",
        "spliter = StratifiedShuffleSplit(n_splits=1, test_size=TRAINING_TEST_RATIO, random_state = 42)\n",
        "for train_index, test_index in spliter.split(raw_mower_data_train, raw_mower_data_train[\"product_type\"]):\n",
        "    strat_train_set = raw_mower_data_train.iloc[train_index]\n",
        "    strat_test_set = raw_mower_data_train.iloc[test_index]"
      ],
      "execution_count": 0,
      "outputs": []
    },
    {
      "cell_type": "code",
      "metadata": {
        "ExecuteTime": {
          "end_time": "2019-01-29T10:24:25.476288Z",
          "start_time": "2019-01-29T10:24:25.470128Z"
        },
        "id": "W3Ox5Z3mGGbk",
        "colab_type": "code",
        "colab": {}
      },
      "source": [
        "# Defining the full pipeline\n",
        "num_features = ['capacity','failure_rate', 'margin', 'price', 'prod_cost', 'warranty']\n",
        "nominal_cat = [\"product_type\"]\n",
        "ordinal_cat = [\"quality\"]\n",
        "\n",
        "# Quality levels order\n",
        "order = [[\"Low\", \"Medium\", \"High\"]]\n",
        "\n",
        "ordinal_cat_pipeline = Pipeline(steps = [('imputer', SimpleImputer(strategy=cat_imputer_strategy)),\n",
        "                                         (\"ordinal_cat_encoder\", OrdinalEncoder(order))])\n",
        "                                             \n",
        "nominal_cat_pipeline = Pipeline(steps = [('imputer', SimpleImputer(strategy=cat_imputer_strategy)),\n",
        "                                         (\"nominal_cat_encoder\", OneHotEncoder(sparse = False))])\n",
        "\n",
        "num_pipeline = Pipeline(steps = [('imputer', SimpleImputer(strategy=num_imputer_strategy)),\n",
        "                                 ('std_scaler', StandardScaler())])\n",
        "\n",
        "pre_process_pipeline = ColumnTransformer(transformers = [(\"num\", num_pipeline, num_features),\n",
        "                                   (\"nominal_cat\", nominal_cat_pipeline, nominal_cat),\n",
        "                                   (\"ordinal_cat\", ordinal_cat_pipeline, ordinal_cat)])\n"
      ],
      "execution_count": 0,
      "outputs": []
    },
    {
      "cell_type": "code",
      "metadata": {
        "ExecuteTime": {
          "end_time": "2019-01-29T10:24:25.895159Z",
          "start_time": "2019-01-29T10:24:25.859374Z"
        },
        "id": "1pvs4V6mGGbt",
        "colab_type": "code",
        "colab": {}
      },
      "source": [
        "train = pre_process(strat_train_set)\n",
        "y = train.attractiveness.values\n",
        "X = pre_process_pipeline.fit_transform(train.drop('attractiveness', axis = 1))"
      ],
      "execution_count": 0,
      "outputs": []
    },
    {
      "cell_type": "code",
      "metadata": {
        "ExecuteTime": {
          "end_time": "2019-01-29T10:24:26.333316Z",
          "start_time": "2019-01-29T10:24:26.314572Z"
        },
        "id": "Dg0-Wgq1GGb3",
        "colab_type": "code",
        "colab": {},
        "outputId": "20355b56-fd4f-41f2-fb21-8b22edf0ab22"
      },
      "source": [
        "ncp = pre_process_pipeline.named_transformers_[\"nominal_cat\"]\n",
        "nc_encoder = ncp.named_steps[\"nominal_cat_encoder\"]\n",
        "nom_cats = list(nc_encoder.categories_[0])\n",
        "cols = num_features.copy()\n",
        "cols.extend(nom_cats)\n",
        "cols.append(ordinal_cat[0])\n",
        "train_prep = pd.DataFrame(X, columns= cols)\n",
        "train_prep.head()"
      ],
      "execution_count": 0,
      "outputs": [
        {
          "output_type": "execute_result",
          "data": {
            "text/html": [
              "<div>\n",
              "<style scoped>\n",
              "    .dataframe tbody tr th:only-of-type {\n",
              "        vertical-align: middle;\n",
              "    }\n",
              "\n",
              "    .dataframe tbody tr th {\n",
              "        vertical-align: top;\n",
              "    }\n",
              "\n",
              "    .dataframe thead th {\n",
              "        text-align: right;\n",
              "    }\n",
              "</style>\n",
              "<table border=\"1\" class=\"dataframe\">\n",
              "  <thead>\n",
              "    <tr style=\"text-align: right;\">\n",
              "      <th></th>\n",
              "      <th>capacity</th>\n",
              "      <th>failure_rate</th>\n",
              "      <th>margin</th>\n",
              "      <th>price</th>\n",
              "      <th>prod_cost</th>\n",
              "      <th>warranty</th>\n",
              "      <th>auto-portee</th>\n",
              "      <th>electrique</th>\n",
              "      <th>essence</th>\n",
              "      <th>quality</th>\n",
              "    </tr>\n",
              "  </thead>\n",
              "  <tbody>\n",
              "    <tr>\n",
              "      <th>0</th>\n",
              "      <td>0.890872</td>\n",
              "      <td>1.461806</td>\n",
              "      <td>-0.678287</td>\n",
              "      <td>-0.750088</td>\n",
              "      <td>-0.750194</td>\n",
              "      <td>-0.740278</td>\n",
              "      <td>0.0</td>\n",
              "      <td>0.0</td>\n",
              "      <td>1.0</td>\n",
              "      <td>0.0</td>\n",
              "    </tr>\n",
              "    <tr>\n",
              "      <th>1</th>\n",
              "      <td>0.482564</td>\n",
              "      <td>1.256113</td>\n",
              "      <td>-0.676016</td>\n",
              "      <td>-0.741292</td>\n",
              "      <td>-0.719916</td>\n",
              "      <td>-0.740278</td>\n",
              "      <td>0.0</td>\n",
              "      <td>0.0</td>\n",
              "      <td>1.0</td>\n",
              "      <td>1.0</td>\n",
              "    </tr>\n",
              "    <tr>\n",
              "      <th>2</th>\n",
              "      <td>-0.496502</td>\n",
              "      <td>-1.772574</td>\n",
              "      <td>2.659465</td>\n",
              "      <td>2.234089</td>\n",
              "      <td>1.478839</td>\n",
              "      <td>2.228795</td>\n",
              "      <td>1.0</td>\n",
              "      <td>0.0</td>\n",
              "      <td>0.0</td>\n",
              "      <td>0.0</td>\n",
              "    </tr>\n",
              "    <tr>\n",
              "      <th>3</th>\n",
              "      <td>1.814259</td>\n",
              "      <td>0.923437</td>\n",
              "      <td>-0.638097</td>\n",
              "      <td>-0.711639</td>\n",
              "      <td>-0.712657</td>\n",
              "      <td>-0.740278</td>\n",
              "      <td>0.0</td>\n",
              "      <td>0.0</td>\n",
              "      <td>1.0</td>\n",
              "      <td>1.0</td>\n",
              "    </tr>\n",
              "    <tr>\n",
              "      <th>4</th>\n",
              "      <td>0.991132</td>\n",
              "      <td>0.575998</td>\n",
              "      <td>-0.664457</td>\n",
              "      <td>-0.726545</td>\n",
              "      <td>-0.693439</td>\n",
              "      <td>-0.740278</td>\n",
              "      <td>0.0</td>\n",
              "      <td>0.0</td>\n",
              "      <td>1.0</td>\n",
              "      <td>0.0</td>\n",
              "    </tr>\n",
              "  </tbody>\n",
              "</table>\n",
              "</div>"
            ],
            "text/plain": [
              "   capacity  failure_rate    margin     price  prod_cost  warranty  \\\n",
              "0  0.890872      1.461806 -0.678287 -0.750088  -0.750194 -0.740278   \n",
              "1  0.482564      1.256113 -0.676016 -0.741292  -0.719916 -0.740278   \n",
              "2 -0.496502     -1.772574  2.659465  2.234089   1.478839  2.228795   \n",
              "3  1.814259      0.923437 -0.638097 -0.711639  -0.712657 -0.740278   \n",
              "4  0.991132      0.575998 -0.664457 -0.726545  -0.693439 -0.740278   \n",
              "\n",
              "   auto-portee  electrique  essence  quality  \n",
              "0          0.0         0.0      1.0      0.0  \n",
              "1          0.0         0.0      1.0      1.0  \n",
              "2          1.0         0.0      0.0      0.0  \n",
              "3          0.0         0.0      1.0      1.0  \n",
              "4          0.0         0.0      1.0      0.0  "
            ]
          },
          "metadata": {
            "tags": []
          },
          "execution_count": 8
        }
      ]
    },
    {
      "cell_type": "markdown",
      "metadata": {
        "id": "gP-Wl9h1GGcG",
        "colab_type": "text"
      },
      "source": [
        "## ML pipeline"
      ]
    },
    {
      "cell_type": "code",
      "metadata": {
        "ExecuteTime": {
          "end_time": "2019-01-29T10:24:27.297929Z",
          "start_time": "2019-01-29T10:24:27.294228Z"
        },
        "id": "oOhLexmJGGcI",
        "colab_type": "code",
        "colab": {}
      },
      "source": [
        "def get_score(preds, obs):\n",
        "    \n",
        "    \"\"\"\n",
        "    Compute RMSLE between preds and obs\n",
        "    \"\"\"\n",
        "    return np.sqrt(mean_squared_log_error(preds,obs))\n",
        "\n",
        "def get_preds(log_preds):\n",
        "    \"\"\"\n",
        "    Convert log predictions into prediction\n",
        "    \"\"\"\n",
        "    return np.exp(log_preds) - 1"
      ],
      "execution_count": 0,
      "outputs": []
    },
    {
      "cell_type": "code",
      "metadata": {
        "ExecuteTime": {
          "end_time": "2019-01-29T10:24:27.754016Z",
          "start_time": "2019-01-29T10:24:27.751298Z"
        },
        "id": "hEnTVThRGGcT",
        "colab_type": "code",
        "colab": {}
      },
      "source": [
        "# Number of folds for cross validation\n",
        "K = 5\n",
        "algos = []\n",
        "cv_scores = []"
      ],
      "execution_count": 0,
      "outputs": []
    },
    {
      "cell_type": "markdown",
      "metadata": {
        "id": "6bsFLbv1GGcZ",
        "colab_type": "text"
      },
      "source": [
        "### Baseline 0: attractiveness mean"
      ]
    },
    {
      "cell_type": "code",
      "metadata": {
        "ExecuteTime": {
          "end_time": "2019-01-29T10:24:28.692348Z",
          "start_time": "2019-01-29T10:24:28.685500Z"
        },
        "id": "dn8Ig_bfGGcZ",
        "colab_type": "code",
        "colab": {},
        "outputId": "a846e6c7-00ac-4f82-9000-ab0d3946d7ed"
      },
      "source": [
        "n, p = X.shape\n",
        "preds = y.mean()*np.ones(n)\n",
        "score = get_score(preds,y)\n",
        "print(f\"The baseline 0 score is {np.round(score,6)}\")"
      ],
      "execution_count": 0,
      "outputs": [
        {
          "output_type": "stream",
          "text": [
            "The baseline 0 score is 0.077071\n"
          ],
          "name": "stdout"
        }
      ]
    },
    {
      "cell_type": "code",
      "metadata": {
        "ExecuteTime": {
          "end_time": "2019-01-29T10:24:29.200193Z",
          "start_time": "2019-01-29T10:24:29.193650Z"
        },
        "id": "U1ELesUgGGck",
        "colab_type": "code",
        "colab": {},
        "outputId": "024487fe-f7a9-4cb6-e80f-f8fd853cd4b5"
      },
      "source": [
        "log_preds = np.log(y + 1).mean()*np.ones(n)\n",
        "preds = get_preds(log_preds)\n",
        "score = get_score(preds,y)\n",
        "print(f\"The baseline 0 score is {np.round(score,6)}\")"
      ],
      "execution_count": 0,
      "outputs": [
        {
          "output_type": "stream",
          "text": [
            "The baseline 0 score is 0.077015\n"
          ],
          "name": "stdout"
        }
      ]
    },
    {
      "cell_type": "markdown",
      "metadata": {
        "id": "36G0vRaEGGcr",
        "colab_type": "text"
      },
      "source": [
        "__Important remark__:\n",
        "\n",
        "As shown above, training Machine Learning algorithms using log(`attractiveness` + 1) is more accurate then using the standard `attractiveness`. The reason is because most ML algorithms loss functions is MSE instead of MSLE and the metric for this study can be slightly twisted into RMSE by changing the target feature."
      ]
    },
    {
      "cell_type": "code",
      "metadata": {
        "ExecuteTime": {
          "end_time": "2019-01-29T10:24:29.979551Z",
          "start_time": "2019-01-29T10:24:29.975992Z"
        },
        "id": "2J_AsGwnGGcs",
        "colab_type": "code",
        "colab": {}
      },
      "source": [
        "log_y = np.log(1 + y)"
      ],
      "execution_count": 0,
      "outputs": []
    },
    {
      "cell_type": "markdown",
      "metadata": {
        "id": "cB6DqineGGcz",
        "colab_type": "text"
      },
      "source": [
        "### Baseline 1: attractiveness mean per sub-market"
      ]
    },
    {
      "cell_type": "code",
      "metadata": {
        "ExecuteTime": {
          "end_time": "2019-01-29T10:24:30.666314Z",
          "start_time": "2019-01-29T10:24:30.651519Z"
        },
        "id": "qwrYSy5HGGc1",
        "colab_type": "code",
        "colab": {},
        "outputId": "d808bd05-5814-429b-a071-b9f7c693b9fc"
      },
      "source": [
        "from sklearn.tree import DecisionTreeRegressor\n",
        "\n",
        "tree_reg = DecisionTreeRegressor(max_depth=2)\n",
        "tree_reg.fit(X,log_y)\n",
        "preds = get_preds(tree_reg.predict(X))\n",
        "baselin_score = get_score(preds,y)\n",
        "print(f\"The baseline 1 score is {np.round(baselin_score,6)}\")"
      ],
      "execution_count": 0,
      "outputs": [
        {
          "output_type": "stream",
          "text": [
            "The baseline 1 score is 0.067949\n"
          ],
          "name": "stdout"
        }
      ]
    },
    {
      "cell_type": "markdown",
      "metadata": {
        "id": "rx9yrJUyGGc9",
        "colab_type": "text"
      },
      "source": [
        "### Short listing promising models"
      ]
    },
    {
      "cell_type": "markdown",
      "metadata": {
        "ExecuteTime": {
          "end_time": "2019-01-28T20:20:08.784554Z",
          "start_time": "2019-01-28T20:20:08.781932Z"
        },
        "id": "kjeYOIdYGGc_",
        "colab_type": "text"
      },
      "source": [
        "#### Algorithm 1: Linear model (LM)"
      ]
    },
    {
      "cell_type": "code",
      "metadata": {
        "ExecuteTime": {
          "end_time": "2019-01-29T10:24:31.836717Z",
          "start_time": "2019-01-29T10:24:31.797474Z"
        },
        "id": "R_iQEOjjGGdD",
        "colab_type": "code",
        "colab": {}
      },
      "source": [
        "from sklearn.linear_model import LinearRegression\n",
        "\n",
        "lin_reg = LinearRegression()\n",
        "scores = cross_val_score(lin_reg,X,log_y,scoring=\"neg_mean_squared_error\",cv=K)\n",
        "algos.extend([\"LM\"]*K)\n",
        "cv_scores.extend(np.sqrt(-scores))"
      ],
      "execution_count": 0,
      "outputs": []
    },
    {
      "cell_type": "markdown",
      "metadata": {
        "ExecuteTime": {
          "end_time": "2019-01-28T20:27:26.879712Z",
          "start_time": "2019-01-28T20:27:26.876179Z"
        },
        "id": "uQrwMoD7GGdK",
        "colab_type": "text"
      },
      "source": [
        "#### Algorithm 2: K Nearest Neighbours (KNN)"
      ]
    },
    {
      "cell_type": "code",
      "metadata": {
        "ExecuteTime": {
          "end_time": "2019-01-29T10:24:32.590797Z",
          "start_time": "2019-01-29T10:24:32.568823Z"
        },
        "id": "5JIefU7CGGdO",
        "colab_type": "code",
        "colab": {}
      },
      "source": [
        "from sklearn.neighbors import KNeighborsRegressor\n",
        "\n",
        "knn_reg = KNeighborsRegressor(10)\n",
        "scores = cross_val_score(knn_reg,X,log_y,scoring=\"neg_mean_squared_error\",cv=K)\n",
        "algos.extend([\"KNN\"]*K)\n",
        "cv_scores.extend(np.sqrt(-scores))"
      ],
      "execution_count": 0,
      "outputs": []
    },
    {
      "cell_type": "markdown",
      "metadata": {
        "ExecuteTime": {
          "end_time": "2019-01-28T20:27:26.879712Z",
          "start_time": "2019-01-28T20:27:26.876179Z"
        },
        "id": "N2QMq9G2GGdV",
        "colab_type": "text"
      },
      "source": [
        "#### Algorithm 3: Linear Support Vector Regression (LinearSVR)"
      ]
    },
    {
      "cell_type": "code",
      "metadata": {
        "ExecuteTime": {
          "end_time": "2019-01-29T10:24:33.705145Z",
          "start_time": "2019-01-29T10:24:33.311561Z"
        },
        "id": "XjeAGr7fGGdX",
        "colab_type": "code",
        "colab": {}
      },
      "source": [
        "from sklearn.svm import SVR\n",
        "\n",
        "svm_reg = SVR(kernel='rbf', C = 1e3, gamma=0.01)\n",
        "scores = cross_val_score(svm_reg,X,log_y,scoring=\"neg_mean_squared_error\",cv=K)\n",
        "algos.extend([\"SVR\"]*K)\n",
        "cv_scores.extend(np.sqrt(-scores))"
      ],
      "execution_count": 0,
      "outputs": []
    },
    {
      "cell_type": "markdown",
      "metadata": {
        "ExecuteTime": {
          "end_time": "2019-01-28T20:40:28.560239Z",
          "start_time": "2019-01-28T20:40:28.557383Z"
        },
        "id": "2nuIPuZmGGdc",
        "colab_type": "text"
      },
      "source": [
        "#### Algorithm 4: Polynomial regression (PR)"
      ]
    },
    {
      "cell_type": "code",
      "metadata": {
        "ExecuteTime": {
          "end_time": "2019-01-29T10:24:34.191357Z",
          "start_time": "2019-01-29T10:24:34.084808Z"
        },
        "id": "8eTOTa2bGGdg",
        "colab_type": "code",
        "colab": {}
      },
      "source": [
        "from sklearn.preprocessing import PolynomialFeatures\n",
        "\n",
        "\n",
        "poly_features = PolynomialFeatures(degree=2, include_bias=False)\n",
        "X_poly = poly_features.fit_transform(X)\n",
        "\n",
        "poly_reg = LinearRegression()\n",
        "scores = cross_val_score(poly_reg,X_poly,log_y,scoring=\"neg_mean_squared_error\",cv=K)\n",
        "algos.extend([\"PR\"]*K)\n",
        "cv_scores.extend(np.sqrt(-scores))\n"
      ],
      "execution_count": 0,
      "outputs": []
    },
    {
      "cell_type": "markdown",
      "metadata": {
        "ExecuteTime": {
          "end_time": "2019-01-28T22:23:17.490415Z",
          "start_time": "2019-01-28T22:23:17.487371Z"
        },
        "id": "MyAAAS34GGdn",
        "colab_type": "text"
      },
      "source": [
        "#### Algorithm 5: Decision Tree (DT)"
      ]
    },
    {
      "cell_type": "code",
      "metadata": {
        "ExecuteTime": {
          "end_time": "2019-01-29T10:24:34.772618Z",
          "start_time": "2019-01-29T10:24:34.743659Z"
        },
        "id": "dEzbP8l1GGdn",
        "colab_type": "code",
        "colab": {}
      },
      "source": [
        "from sklearn.tree import DecisionTreeRegressor\n",
        "\n",
        "tree_reg = DecisionTreeRegressor()\n",
        "scores = cross_val_score(tree_reg,X,log_y,scoring=\"neg_mean_squared_error\",cv=K)\n",
        "algos.extend([\"DT\"]*K)\n",
        "cv_scores.extend(np.sqrt(-scores))"
      ],
      "execution_count": 0,
      "outputs": []
    },
    {
      "cell_type": "markdown",
      "metadata": {
        "id": "BqoXFHYXGGdw",
        "colab_type": "text"
      },
      "source": [
        "#### Algorithm 6: Random Forrest (RF)"
      ]
    },
    {
      "cell_type": "code",
      "metadata": {
        "ExecuteTime": {
          "end_time": "2019-01-29T10:24:36.878178Z",
          "start_time": "2019-01-29T10:24:35.351846Z"
        },
        "id": "9F_nsE-QGGdx",
        "colab_type": "code",
        "colab": {}
      },
      "source": [
        "from sklearn.ensemble import RandomForestRegressor\n",
        "\n",
        "rf_reg = RandomForestRegressor(n_estimators=100)\n",
        "scores = cross_val_score(rf_reg,X,log_y,scoring=\"neg_mean_squared_error\",cv=K)\n",
        "algos.extend([\"RF\"]*K)\n",
        "cv_scores.extend(np.sqrt(-scores))"
      ],
      "execution_count": 0,
      "outputs": []
    },
    {
      "cell_type": "markdown",
      "metadata": {
        "id": "44QViNarGGd3",
        "colab_type": "text"
      },
      "source": [
        "#### Algorithm 7: Extreme Gradient Boosting (XGBoost)"
      ]
    },
    {
      "cell_type": "code",
      "metadata": {
        "ExecuteTime": {
          "end_time": "2019-01-29T10:24:37.430574Z",
          "start_time": "2019-01-29T10:24:37.084876Z"
        },
        "id": "qI2XP19ZGGd3",
        "colab_type": "code",
        "colab": {}
      },
      "source": [
        "from xgboost import XGBRegressor\n",
        "\n",
        "xgb_reg = XGBRegressor()\n",
        "scores = cross_val_score(xgb_reg,X,log_y,scoring=\"neg_mean_squared_error\",cv=K)\n",
        "algos.extend([\"XGBoost\"]*K)\n",
        "cv_scores.extend(np.sqrt(-scores))"
      ],
      "execution_count": 0,
      "outputs": []
    },
    {
      "cell_type": "markdown",
      "metadata": {
        "id": "ckmf2l4nGGd-",
        "colab_type": "text"
      },
      "source": [
        "#### Algorithm 8: Neural Network - Multi-layer Perceptron (MPL)"
      ]
    },
    {
      "cell_type": "code",
      "metadata": {
        "ExecuteTime": {
          "end_time": "2019-01-29T10:24:38.402791Z",
          "start_time": "2019-01-29T10:24:37.630913Z"
        },
        "id": "BiZ0O4iqGGeD",
        "colab_type": "code",
        "colab": {}
      },
      "source": [
        "from sklearn.neural_network import MLPRegressor\n",
        "\n",
        "mlp_reg = MLPRegressor(hidden_layer_sizes=(10,10))\n",
        "scores = cross_val_score(mlp_reg,X,log_y,scoring=\"neg_mean_squared_error\",cv=K)\n",
        "algos.extend([\"MLP\"]*K)\n",
        "cv_scores.extend(np.sqrt(-scores))"
      ],
      "execution_count": 0,
      "outputs": []
    },
    {
      "cell_type": "markdown",
      "metadata": {
        "id": "B4D_7LISGGeH",
        "colab_type": "text"
      },
      "source": [
        "#### Algorithm 9: Lasso regression - (LASSO)"
      ]
    },
    {
      "cell_type": "code",
      "metadata": {
        "ExecuteTime": {
          "end_time": "2019-01-29T10:24:38.617801Z",
          "start_time": "2019-01-29T10:24:38.601524Z"
        },
        "id": "AVTPxcOiGGeI",
        "colab_type": "code",
        "colab": {}
      },
      "source": [
        "from sklearn.linear_model import Lasso\n",
        "\n",
        "lasso_reg = Lasso()\n",
        "scores = cross_val_score(lasso_reg,X,log_y,scoring=\"neg_mean_squared_error\",cv=K)\n",
        "algos.extend([\"LASSO\"]*K)\n",
        "cv_scores.extend(np.sqrt(-scores))"
      ],
      "execution_count": 0,
      "outputs": []
    },
    {
      "cell_type": "markdown",
      "metadata": {
        "ExecuteTime": {
          "end_time": "2019-01-28T23:05:12.701779Z",
          "start_time": "2019-01-28T23:05:12.699300Z"
        },
        "id": "j3eB4DENGGeO",
        "colab_type": "text"
      },
      "source": [
        "#### Algorithm 10: Ridge regression - (Ridge)"
      ]
    },
    {
      "cell_type": "code",
      "metadata": {
        "ExecuteTime": {
          "end_time": "2019-01-29T10:24:38.831972Z",
          "start_time": "2019-01-29T10:24:38.820919Z"
        },
        "id": "paMjZaJkGGeR",
        "colab_type": "code",
        "colab": {}
      },
      "source": [
        "from sklearn.linear_model import Ridge\n",
        "\n",
        "rdg_reg = Ridge()\n",
        "scores = cross_val_score(rdg_reg,X,log_y,scoring=\"neg_mean_squared_error\",cv=K)\n",
        "algos.extend([\"Ridge\"]*K)\n",
        "cv_scores.extend(np.sqrt(-scores))"
      ],
      "execution_count": 0,
      "outputs": []
    },
    {
      "cell_type": "markdown",
      "metadata": {
        "id": "1LPDBCh1GGeT",
        "colab_type": "text"
      },
      "source": [
        "#### Summarizing the results"
      ]
    },
    {
      "cell_type": "code",
      "metadata": {
        "ExecuteTime": {
          "end_time": "2019-01-29T10:24:39.468836Z",
          "start_time": "2019-01-29T10:24:39.047762Z"
        },
        "id": "RuidOQKIGGeV",
        "colab_type": "code",
        "colab": {},
        "outputId": "4c3e6aa7-e135-4597-95a9-852a1f690be1"
      },
      "source": [
        "short_listing_results = pd.DataFrame({\"Algorithm\": algos, \"CV_score\": cv_scores})\n",
        "n_algos = short_listing_results.Algorithm.nunique()\n",
        "baseline_hline = baselin_score*np.ones(n_algos)\n",
        "\n",
        "fig, ax = plt.subplots(figsize = (10,5))\n",
        "sns.boxplot(short_listing_results.Algorithm, short_listing_results.CV_score, ax = ax);\n",
        "ax.set_title(f\"{K}-fold Cross Validation vs Baseline (red)\")\n",
        "ax.set_ylabel(\"CV score\")\n",
        "\n",
        "plt.plot(baseline_hline, 'r*-')\n",
        "ax.grid(True)"
      ],
      "execution_count": 0,
      "outputs": [
        {
          "output_type": "display_data",
          "data": {
            "image/png": "[encoded data removed]",
            "text/plain": [
              "<Figure size 720x360 with 1 Axes>"
            ]
          },
          "metadata": {
            "tags": [],
            "needs_background": "light"
          }
        }
      ]
    },
    {
      "cell_type": "markdown",
      "metadata": {
        "id": "X2YouMo5GGeb",
        "colab_type": "text"
      },
      "source": [
        "__Notes__:\n",
        "\n",
        "This round of algorithms short-listing proves that linear models are performing worse than the baseline which is coherent with EDA (specially PCA which proves sub-market is very influent feature)."
      ]
    },
    {
      "cell_type": "markdown",
      "metadata": {
        "id": "NYZBemp1GGed",
        "colab_type": "text"
      },
      "source": [
        "### Fine-Tuning"
      ]
    },
    {
      "cell_type": "markdown",
      "metadata": {
        "id": "5p-hJvZHGGef",
        "colab_type": "text"
      },
      "source": [
        "In this section, we will be fine-tuning the top 3 promising models:\n",
        "    - SVR (including polynomial kernel)\n",
        "    - Random Forrest\n",
        "    - XGBoost Trees"
      ]
    },
    {
      "cell_type": "markdown",
      "metadata": {
        "id": "vgIqW4-1GGeg",
        "colab_type": "text"
      },
      "source": [
        "#### SVR"
      ]
    },
    {
      "cell_type": "code",
      "metadata": {
        "ExecuteTime": {
          "end_time": "2019-01-29T10:24:45.606469Z",
          "start_time": "2019-01-29T10:24:43.776538Z"
        },
        "id": "6MyFG4QZGGei",
        "colab_type": "code",
        "colab": {},
        "outputId": "75804d92-199b-4c46-a42c-11dc1c45d667"
      },
      "source": [
        "from sklearn.model_selection import RandomizedSearchCV\n",
        "from scipy.stats import expon, reciprocal\n",
        "\n",
        "# Hyper-parameters distributions\n",
        "hp_distribs = {'kernel': ['linear', 'rbf', 'poly'],\n",
        "               'degree':[2,3,4],\n",
        "               'C': reciprocal(20, 200000),\n",
        "               'gamma': expon(scale=1.0),\n",
        "               \"epsilon\":reciprocal(20, 200000)}\n",
        "\n",
        "svm_reg = SVR()\n",
        "rnd_search_svr = RandomizedSearchCV(svm_reg, param_distributions=hp_distribs,\n",
        "                                n_iter=100, cv=K, scoring='neg_mean_squared_error',\n",
        "                                verbose=3, n_jobs=-1, random_state=42)\n",
        "rnd_search_svr.fit(X, log_y)"
      ],
      "execution_count": 0,
      "outputs": [
        {
          "output_type": "stream",
          "text": [
            "Fitting 5 folds for each of 100 candidates, totalling 500 fits\n"
          ],
          "name": "stdout"
        },
        {
          "output_type": "stream",
          "text": [
            "[Parallel(n_jobs=-1)]: Using backend LokyBackend with 8 concurrent workers.\n",
            "[Parallel(n_jobs=-1)]: Done  16 tasks      | elapsed:    1.3s\n",
            "[Parallel(n_jobs=-1)]: Done 318 out of 500 | elapsed:    1.7s remaining:    1.0s\n",
            "[Parallel(n_jobs=-1)]: Done 500 out of 500 | elapsed:    1.7s finished\n"
          ],
          "name": "stderr"
        },
        {
          "output_type": "execute_result",
          "data": {
            "text/plain": [
              "RandomizedSearchCV(cv=5, error_score='raise-deprecating',\n",
              "          estimator=SVR(C=1.0, cache_size=200, coef0=0.0, degree=3, epsilon=0.1,\n",
              "  gamma='auto_deprecated', kernel='rbf', max_iter=-1, shrinking=True,\n",
              "  tol=0.001, verbose=False),\n",
              "          fit_params=None, iid='warn', n_iter=100, n_jobs=-1,\n",
              "          param_distributions={'kernel': ['linear', 'rbf', 'poly'], 'degree': [2, 3, 4], 'C': <scipy.stats._distn_infrastructure.rv_frozen object at 0x7fe321266358>, 'gamma': <scipy.stats._distn_infrastructure.rv_frozen object at 0x7fe321266898>, 'epsilon': <scipy.stats._distn_infrastructure.rv_frozen object at 0x7fe321266b70>},\n",
              "          pre_dispatch='2*n_jobs', random_state=42, refit=True,\n",
              "          return_train_score='warn', scoring='neg_mean_squared_error',\n",
              "          verbose=3)"
            ]
          },
          "metadata": {
            "tags": []
          },
          "execution_count": 26
        }
      ]
    },
    {
      "cell_type": "code",
      "metadata": {
        "ExecuteTime": {
          "end_time": "2019-01-29T10:24:45.842772Z",
          "start_time": "2019-01-29T10:24:45.836730Z"
        },
        "id": "0TkD-W_fGGen",
        "colab_type": "code",
        "colab": {},
        "outputId": "000f3951-289c-4f39-ab40-ce807941a007"
      },
      "source": [
        "tuned_svr = rnd_search_svr.best_estimator_\n",
        "tuned_svr"
      ],
      "execution_count": 0,
      "outputs": [
        {
          "output_type": "execute_result",
          "data": {
            "text/plain": [
              "SVR(C=23.098066248442485, cache_size=200, coef0=0.0, degree=2,\n",
              "  epsilon=24547.601975705915, gamma=0.22153944050588595, kernel='poly',\n",
              "  max_iter=-1, shrinking=True, tol=0.001, verbose=False)"
            ]
          },
          "metadata": {
            "tags": []
          },
          "execution_count": 27
        }
      ]
    },
    {
      "cell_type": "markdown",
      "metadata": {
        "ExecuteTime": {
          "end_time": "2019-01-28T23:49:46.257782Z",
          "start_time": "2019-01-28T23:49:46.254159Z"
        },
        "id": "AKijEQKcGGes",
        "colab_type": "text"
      },
      "source": [
        "#### Random Forrest"
      ]
    },
    {
      "cell_type": "code",
      "metadata": {
        "ExecuteTime": {
          "end_time": "2019-01-29T10:25:14.991377Z",
          "start_time": "2019-01-29T10:24:48.949546Z"
        },
        "id": "FTdpZUdRGGet",
        "colab_type": "code",
        "colab": {},
        "outputId": "83e11b47-fc93-4ed6-8613-669ea26d5b6b"
      },
      "source": [
        "from scipy.stats import randint, uniform\n",
        "\n",
        "# Hyper-parameters distributions\n",
        "hp_distribs = {'n_estimators': [5,10,50,100,200, 500],\n",
        "               'max_depth': randint(1,10),\n",
        "               'max_features': [0.6, 0.7, 0.8, 0.9, 1.0]}\n",
        "    \n",
        "rf_reg = RandomForestRegressor()\n",
        "rnd_search_rf = RandomizedSearchCV(rf_reg, param_distributions=hp_distribs,\n",
        "                                n_iter=100, cv=K, scoring='neg_mean_squared_error',\n",
        "                                verbose=3, n_jobs=-1, random_state=42)\n",
        "rnd_search_rf.fit(X, log_y)"
      ],
      "execution_count": 0,
      "outputs": [
        {
          "output_type": "stream",
          "text": [
            "Fitting 5 folds for each of 100 candidates, totalling 500 fits\n"
          ],
          "name": "stdout"
        },
        {
          "output_type": "stream",
          "text": [
            "[Parallel(n_jobs=-1)]: Using backend LokyBackend with 8 concurrent workers.\n",
            "[Parallel(n_jobs=-1)]: Done  16 tasks      | elapsed:    1.1s\n",
            "[Parallel(n_jobs=-1)]: Done 112 tasks      | elapsed:    6.8s\n",
            "[Parallel(n_jobs=-1)]: Done 281 tasks      | elapsed:   16.3s\n",
            "[Parallel(n_jobs=-1)]: Done 500 out of 500 | elapsed:   24.8s finished\n"
          ],
          "name": "stderr"
        },
        {
          "output_type": "execute_result",
          "data": {
            "text/plain": [
              "RandomizedSearchCV(cv=5, error_score='raise-deprecating',\n",
              "          estimator=RandomForestRegressor(bootstrap=True, criterion='mse', max_depth=None,\n",
              "           max_features='auto', max_leaf_nodes=None,\n",
              "           min_impurity_decrease=0.0, min_impurity_split=None,\n",
              "           min_samples_leaf=1, min_samples_split=2,\n",
              "           min_weight_fraction_leaf=0.0, n_estimators='warn', n_jobs=None,\n",
              "           oob_score=False, random_state=None, verbose=0, warm_start=False),\n",
              "          fit_params=None, iid='warn', n_iter=100, n_jobs=-1,\n",
              "          param_distributions={'n_estimators': [5, 10, 50, 100, 200, 500], 'max_depth': <scipy.stats._distn_infrastructure.rv_frozen object at 0x7fe3467dec18>, 'max_features': [0.6, 0.7, 0.8, 0.9, 1.0]},\n",
              "          pre_dispatch='2*n_jobs', random_state=42, refit=True,\n",
              "          return_train_score='warn', scoring='neg_mean_squared_error',\n",
              "          verbose=3)"
            ]
          },
          "metadata": {
            "tags": []
          },
          "execution_count": 28
        }
      ]
    },
    {
      "cell_type": "code",
      "metadata": {
        "ExecuteTime": {
          "end_time": "2019-01-29T10:25:17.410562Z",
          "start_time": "2019-01-29T10:25:17.406689Z"
        },
        "id": "4HExNVDLGGex",
        "colab_type": "code",
        "colab": {},
        "outputId": "7ec09a8b-ed56-47a3-b079-13a51d710bab"
      },
      "source": [
        "tuned_rf = rnd_search_rf.best_estimator_\n",
        "tuned_rf"
      ],
      "execution_count": 0,
      "outputs": [
        {
          "output_type": "execute_result",
          "data": {
            "text/plain": [
              "RandomForestRegressor(bootstrap=True, criterion='mse', max_depth=9,\n",
              "           max_features=0.8, max_leaf_nodes=None,\n",
              "           min_impurity_decrease=0.0, min_impurity_split=None,\n",
              "           min_samples_leaf=1, min_samples_split=2,\n",
              "           min_weight_fraction_leaf=0.0, n_estimators=500, n_jobs=None,\n",
              "           oob_score=False, random_state=None, verbose=0, warm_start=False)"
            ]
          },
          "metadata": {
            "tags": []
          },
          "execution_count": 29
        }
      ]
    },
    {
      "cell_type": "markdown",
      "metadata": {
        "ExecuteTime": {
          "end_time": "2019-01-28T23:49:56.676239Z",
          "start_time": "2019-01-28T23:49:56.672843Z"
        },
        "id": "Xnl2qe7GGGe5",
        "colab_type": "text"
      },
      "source": [
        "#### XGBoost Trees"
      ]
    },
    {
      "cell_type": "code",
      "metadata": {
        "ExecuteTime": {
          "end_time": "2019-01-29T10:25:39.501346Z",
          "start_time": "2019-01-29T10:25:18.455316Z"
        },
        "id": "VtohmRReGGe7",
        "colab_type": "code",
        "colab": {},
        "outputId": "d2d83578-739f-4e45-f027-26a75d11591d"
      },
      "source": [
        "# Hyper-parameters distributions\n",
        "hp_distribs = {'max_depth': randint(1,10),\n",
        "               'gamma': expon(scale=1.0),\n",
        "               'n_estimators':[5,10,50,100,200, 500]}\n",
        "\n",
        "xgb_reg = XGBRegressor()\n",
        "rnd_search_xgb = RandomizedSearchCV(xgb_reg, param_distributions=hp_distribs,\n",
        "                              n_iter=100, cv=K, scoring='neg_mean_squared_error',\n",
        "                              verbose=3, n_jobs=-1, random_state=42)\n",
        "rnd_search_xgb.fit(X, log_y)"
      ],
      "execution_count": 0,
      "outputs": [
        {
          "output_type": "stream",
          "text": [
            "Fitting 5 folds for each of 100 candidates, totalling 500 fits\n"
          ],
          "name": "stdout"
        },
        {
          "output_type": "stream",
          "text": [
            "[Parallel(n_jobs=-1)]: Using backend LokyBackend with 8 concurrent workers.\n",
            "[Parallel(n_jobs=-1)]: Done  16 tasks      | elapsed:    1.2s\n",
            "[Parallel(n_jobs=-1)]: Done 139 tasks      | elapsed:    6.0s\n",
            "[Parallel(n_jobs=-1)]: Done 399 tasks      | elapsed:   16.3s\n",
            "[Parallel(n_jobs=-1)]: Done 500 out of 500 | elapsed:   20.9s finished\n"
          ],
          "name": "stderr"
        },
        {
          "output_type": "execute_result",
          "data": {
            "text/plain": [
              "RandomizedSearchCV(cv=5, error_score='raise-deprecating',\n",
              "          estimator=XGBRegressor(base_score=0.5, booster='gbtree', colsample_bylevel=1,\n",
              "       colsample_bytree=1, gamma=0, learning_rate=0.1, max_delta_step=0,\n",
              "       max_depth=3, min_child_weight=1, missing=None, n_estimators=100,\n",
              "       n_jobs=1, nthread=None, objective='reg:linear', random_state=0,\n",
              "       reg_alpha=0, reg_lambda=1, scale_pos_weight=1, seed=None,\n",
              "       silent=True, subsample=1),\n",
              "          fit_params=None, iid='warn', n_iter=100, n_jobs=-1,\n",
              "          param_distributions={'max_depth': <scipy.stats._distn_infrastructure.rv_frozen object at 0x7fe3467b7da0>, 'gamma': <scipy.stats._distn_infrastructure.rv_frozen object at 0x7fe3467b7eb8>, 'n_estimators': [5, 10, 50, 100, 200, 500]},\n",
              "          pre_dispatch='2*n_jobs', random_state=42, refit=True,\n",
              "          return_train_score='warn', scoring='neg_mean_squared_error',\n",
              "          verbose=3)"
            ]
          },
          "metadata": {
            "tags": []
          },
          "execution_count": 30
        }
      ]
    },
    {
      "cell_type": "code",
      "metadata": {
        "ExecuteTime": {
          "end_time": "2019-01-29T10:25:41.788263Z",
          "start_time": "2019-01-29T10:25:41.783959Z"
        },
        "id": "805MH03SGGfF",
        "colab_type": "code",
        "colab": {},
        "outputId": "5a02e2b0-7cb9-4fcc-d584-e88ddf043885"
      },
      "source": [
        "tunned_xgb = rnd_search_xgb.best_estimator_\n",
        "tunned_xgb"
      ],
      "execution_count": 0,
      "outputs": [
        {
          "output_type": "execute_result",
          "data": {
            "text/plain": [
              "XGBRegressor(base_score=0.5, booster='gbtree', colsample_bylevel=1,\n",
              "       colsample_bytree=1, gamma=0.00923960561099441, learning_rate=0.1,\n",
              "       max_delta_step=0, max_depth=9, min_child_weight=1, missing=None,\n",
              "       n_estimators=50, n_jobs=1, nthread=None, objective='reg:linear',\n",
              "       random_state=0, reg_alpha=0, reg_lambda=1, scale_pos_weight=1,\n",
              "       seed=None, silent=True, subsample=1)"
            ]
          },
          "metadata": {
            "tags": []
          },
          "execution_count": 31
        }
      ]
    },
    {
      "cell_type": "markdown",
      "metadata": {
        "id": "6Q8hdR_DGGfZ",
        "colab_type": "text"
      },
      "source": [
        "### Final comparison"
      ]
    },
    {
      "cell_type": "code",
      "metadata": {
        "ExecuteTime": {
          "end_time": "2019-01-29T10:25:48.805378Z",
          "start_time": "2019-01-29T10:25:42.987236Z"
        },
        "id": "uG7jvdi9GGfa",
        "colab_type": "code",
        "colab": {},
        "outputId": "d0a0709c-8cb4-45e9-df68-f9c225e812ae"
      },
      "source": [
        "promising_models = {\"SVR\": tuned_svr, \"RF\": tuned_rf, \"XGBoost\":tunned_xgb}\n",
        "algos = []\n",
        "cv_scores = []\n",
        "test_scores = []\n",
        "\n",
        "for model_name in promising_models:\n",
        "    \n",
        "    model = promising_models[model_name]\n",
        "    scores = cross_val_score(model,X,log_y,scoring=\"neg_mean_squared_error\",cv=K)\n",
        "    algos.extend([model_name]*K)\n",
        "    cv_scores.extend(np.sqrt(-scores))\n",
        "    \n",
        "\n",
        "promising_models_results = pd.DataFrame({\"Algorithm\": algos, \"CV_score\": cv_scores})\n",
        "n_algos = short_listing_results.Algorithm.nunique()\n",
        "baseline_hline = baselin_score*np.ones(n_algos)\n",
        "\n",
        "fig, ax = plt.subplots(figsize = (10,5))\n",
        "sns.boxplot(promising_models_results.Algorithm, promising_models_results.CV_score, ax = ax);\n",
        "ax.set_title(f\"{K}-fold Cross Validation vs Baseline (red)\")\n",
        "ax.set_ylabel(\"CV score\")\n",
        "\n",
        "plt.plot(baseline_hline, 'r*-')\n",
        "ax.grid(True)"
      ],
      "execution_count": 0,
      "outputs": [
        {
          "output_type": "display_data",
          "data": {
            "image/png": "[encoded data removed]",
            "text/plain": [
              "<Figure size 720x360 with 1 Axes>"
            ]
          },
          "metadata": {
            "tags": [],
            "needs_background": "light"
          }
        }
      ]
    },
    {
      "cell_type": "markdown",
      "metadata": {
        "id": "5qkE494wGGfg",
        "colab_type": "text"
      },
      "source": [
        "Conclusion: ___The best models to be selected are RandomForrest.___"
      ]
    },
    {
      "cell_type": "markdown",
      "metadata": {
        "ExecuteTime": {
          "end_time": "2019-01-28T21:47:18.567002Z",
          "start_time": "2019-01-28T21:47:18.564650Z"
        },
        "id": "-EIzQD81GGfh",
        "colab_type": "text"
      },
      "source": [
        "### Model interpretability: Features Importance"
      ]
    },
    {
      "cell_type": "code",
      "metadata": {
        "ExecuteTime": {
          "end_time": "2019-01-29T10:25:56.299868Z",
          "start_time": "2019-01-29T10:25:56.018180Z"
        },
        "id": "54ML-ifDGGfi",
        "colab_type": "code",
        "colab": {},
        "outputId": "b49f79d2-ff84-4eaa-8a21-0ee040ca8b19"
      },
      "source": [
        "final_model = promising_models[\"RF\"]\n",
        "\n",
        "def plot_features_relative_importance(model, feat_names):\n",
        "    \"\"\"\n",
        "    Plot features importance for decision tree based models\n",
        "    \"\"\"\n",
        "    feat_imp = pd.Series(model.feature_importances_, index = feat_names)\n",
        "    max_imp = feat_imp.max()\n",
        "    rel_feat_imp = feat_imp/max_imp\n",
        "    rel_feat_imp_sorted = rel_feat_imp.sort_values(ascending=True)\n",
        "    fig, ax = plt.subplots(figsize=(10, 6))\n",
        "    ax.barh(rel_feat_imp_sorted.index,rel_feat_imp_sorted.values)\n",
        "    ax.set_title(\"Feature relative importance\")\n",
        "    ax.set_xlabel(\"Rel. Importance (%)\")\n",
        "    \n",
        "plot_features_relative_importance(final_model, train_prep.columns)"
      ],
      "execution_count": 0,
      "outputs": [
        {
          "output_type": "display_data",
          "data": {
            "image/png": "[encoded data removed]",
            "text/plain": [
              "<Figure size 720x432 with 1 Axes>"
            ]
          },
          "metadata": {
            "tags": [],
            "needs_background": "light"
          }
        }
      ]
    },
    {
      "cell_type": "markdown",
      "metadata": {
        "id": "oybWys6uGGfo",
        "colab_type": "text"
      },
      "source": [
        "## Final submission"
      ]
    },
    {
      "cell_type": "markdown",
      "metadata": {
        "id": "rlEJE5VSGGfr",
        "colab_type": "text"
      },
      "source": [
        "#### Training the selected model on all training set"
      ]
    },
    {
      "cell_type": "code",
      "metadata": {
        "ExecuteTime": {
          "end_time": "2019-01-29T10:26:01.152820Z",
          "start_time": "2019-01-29T10:25:59.572420Z"
        },
        "id": "AMUdLIa6GGfs",
        "colab_type": "code",
        "colab": {},
        "outputId": "7f156170-8594-44cc-9a38-56f1af2f996a"
      },
      "source": [
        "raw_mower_data_train = get_data(PATH,TRAIN_FILE_NAME)\n",
        "train = pre_process(raw_mower_data_train)\n",
        "y = train.attractiveness.values\n",
        "log_y = np.log(y + 1)\n",
        "X = pre_process_pipeline.fit_transform(train.drop('attractiveness', axis = 1))\n",
        "final_model.fit(X, log_y)\n",
        "preds = get_preds(final_model.predict(X))\n",
        "best_model_score = get_score(preds,y)\n",
        "print(f\"The best model score is {np.round(best_model_score,6)}\")\n",
        "print(f\"The baseline model score is {np.round(baselin_score,6)}\")"
      ],
      "execution_count": 0,
      "outputs": [
        {
          "output_type": "stream",
          "text": [
            "The best model score is 0.027154\n",
            "The baseline model score is 0.067949\n"
          ],
          "name": "stdout"
        }
      ]
    },
    {
      "cell_type": "markdown",
      "metadata": {
        "id": "nu6JlHhoGGfw",
        "colab_type": "text"
      },
      "source": [
        "#### Making predictions for submission set"
      ]
    },
    {
      "cell_type": "code",
      "metadata": {
        "ExecuteTime": {
          "end_time": "2019-01-29T10:26:04.132983Z",
          "start_time": "2019-01-29T10:26:03.994796Z"
        },
        "id": "6b8FJUwBGGfx",
        "colab_type": "code",
        "colab": {}
      },
      "source": [
        "raw_mower_data_test = get_data(PATH,TEST_FILE_NAME)\n",
        "test = pre_process(raw_mower_data_test)\n",
        "X = pre_process_pipeline.fit_transform(test)\n",
        "final_model.predict(X)\n",
        "preds = get_preds(final_model.predict(X))\n",
        "\n",
        "submissions = pd.DataFrame({\"attractiveness\": preds}, index = raw_mower_data_test.id)\n",
        "file_name = \"HAMMAMI_Chihebeddine_attractiveness.csv\"\n",
        "submissions.to_csv(os.path.join(\".\",\"..\", \"data\",file_name))"
      ],
      "execution_count": 0,
      "outputs": []
    },
    {
      "cell_type": "markdown",
      "metadata": {
        "id": "Hh9_QLOYGGfz",
        "colab_type": "text"
      },
      "source": [
        "Merci pour avoir proposé ce beau challenge et lu mon travail jusqu'à la fin :)"
      ]
    },
    {
      "cell_type": "markdown",
      "metadata": {
        "id": "ROEnIRcEGGf1",
        "colab_type": "text"
      },
      "source": [
        "## External ressources\n",
        "- Principal Components Analysis: https://jakevdp.github.io/PythonDataScienceHandbook/05.09-principal-component-analysis.html\n",
        "- SciPy documentation: https://docs.scipy.org/doc/scipy/reference/index.html\n",
        "- XGBoost documentation https://xgboost.readthedocs.io/"
      ]
    },
    {
      "cell_type": "markdown",
      "metadata": {
        "id": "FkhEdoNyGGf2",
        "colab_type": "text"
      },
      "source": [
        "## Looking further\n",
        "\n",
        "I had more time, I would definetly try the following ideas:\n",
        "\n",
        "- ML\n",
        "    - Feature selection using step wise selection or regularisation with LASSO\n",
        "    - Uncertainty quantification: predicting attractiveness with its confidence interval\n",
        "    - Ensemble the top 3 models with optimal weights\n",
        "    - Explore more model interpretability with LIME and Shapely\n",
        "- Developpement:\n",
        "    - Produce a docker file to reproduce my entire pipeline from raw data  to predictions"
      ]
    },
    {
      "cell_type": "code",
      "metadata": {
        "id": "2WRVOo0BGGf2",
        "colab_type": "code",
        "colab": {}
      },
      "source": [
        ""
      ],
      "execution_count": 0,
      "outputs": []
    }
  ]
}